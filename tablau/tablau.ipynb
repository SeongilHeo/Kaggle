{
 "cells": [
  {
   "cell_type": "code",
   "execution_count": 152,
   "metadata": {},
   "outputs": [],
   "source": [
    "import pandas as pd\n",
    "import numpy as np\n",
    "import matplotlib.pyplot as plt\n",
    "import seaborn as sns\n",
    "from sklearn.preprocessing import MinMaxScaler, RobustScaler, StandardScaler, MaxAbsScaler, PowerTransformer\n",
    "from sklearn.decomposition import PCA\n",
    "from sklearn.cluster import KMeans, DBSCAN, MeanShift\n",
    "from varname import nameof\n",
    "import scipy.stats as stats"
   ]
  },
  {
   "cell_type": "markdown",
   "metadata": {},
   "source": [
    "# Load Data "
   ]
  },
  {
   "cell_type": "code",
   "execution_count": null,
   "metadata": {},
   "outputs": [],
   "source": [
    "df=pd.read_csv(\"data.csv\",index_col=0)\n",
    "submission = pd.read_csv(\"sample_submission.csv\",index_col=0)"
   ]
  },
  {
   "cell_type": "markdown",
   "metadata": {},
   "source": [
    "# Check Data"
   ]
  },
  {
   "cell_type": "markdown",
   "metadata": {},
   "source": [
    "### shape, describe, info"
   ]
  },
  {
   "cell_type": "code",
   "execution_count": null,
   "metadata": {},
   "outputs": [],
   "source": [
    "df.shape\n"
   ]
  },
  {
   "cell_type": "code",
   "execution_count": null,
   "metadata": {},
   "outputs": [],
   "source": [
    "df.describe()"
   ]
  },
  {
   "cell_type": "code",
   "execution_count": null,
   "metadata": {},
   "outputs": [],
   "source": [
    "df.info()"
   ]
  },
  {
   "cell_type": "markdown",
   "metadata": {},
   "source": [
    "### Missing value"
   ]
  },
  {
   "cell_type": "code",
   "execution_count": null,
   "metadata": {},
   "outputs": [],
   "source": [
    "count_ms = df.sum()[df.isnull().sum()!=0].shape[0]\n",
    "count_ms"
   ]
  },
  {
   "cell_type": "markdown",
   "metadata": {},
   "source": [
    "### Duplicated value"
   ]
  },
  {
   "cell_type": "code",
   "execution_count": null,
   "metadata": {},
   "outputs": [],
   "source": [
    "count_dp = df[df.duplicated()].shape[0]\n",
    "count_dp"
   ]
  },
  {
   "cell_type": "markdown",
   "metadata": {},
   "source": [
    "### histogram"
   ]
  },
  {
   "cell_type": "code",
   "execution_count": null,
   "metadata": {},
   "outputs": [],
   "source": [
    "columns=df.columns\n",
    "nr,nc=6,5\n",
    "# create subplots\n",
    "fig, axes = plt.subplots(nr,nc,figsize=(30,20),sharex=True)\n",
    "\n",
    "# insert data into plot\n",
    "for i, column in enumerate(columns):\n",
    "    sns.histplot(data=df[column], ax=axes[i//nc,i%nc])\n",
    "plt.savefig(\"./png/data_histogram.png\")"
   ]
  },
  {
   "cell_type": "markdown",
   "metadata": {},
   "source": [
    "### Box plot"
   ]
  },
  {
   "cell_type": "code",
   "execution_count": null,
   "metadata": {},
   "outputs": [],
   "source": [
    "fig, ax = plt.subplots(figsize=(20,10))\n",
    "sns.boxplot(df)\n",
    "plt.show(\"./png/data_boxplot.png\")"
   ]
  },
  {
   "cell_type": "markdown",
   "metadata": {},
   "source": [
    "# Data Preprocessing"
   ]
  },
  {
   "cell_type": "markdown",
   "metadata": {},
   "source": [
    " - 기준을 설정하고 그 기준내에서 각 데이터들을 평가하기 때문에 비교가 편하다\n",
    " -  각 특성들의 단위를 무시하고 값으로 단순 비교"
   ]
  },
  {
   "cell_type": "markdown",
   "metadata": {},
   "source": [
    "## Saclers\n",
    "- MinMaxScaler\n",
    "- RobustScaler\n",
    "- StandardScaler\n",
    "- MaxAbsScaler\n",
    "- PowerTransformer"
   ]
  },
  {
   "cell_type": "code",
   "execution_count": null,
   "metadata": {},
   "outputs": [],
   "source": [
    "mm_scaler = MinMaxScaler()\n",
    "rb_scaler = RobustScaler()\n",
    "ss_scaler = StandardScaler()\n",
    "ma_scaler = MaxAbsScaler()\n",
    "po_transformer = PowerTransformer()"
   ]
  },
  {
   "cell_type": "code",
   "execution_count": null,
   "metadata": {},
   "outputs": [],
   "source": [
    "mm_data=mm_scaler.fit_transform(df)\n",
    "rb_data=rb_scaler.fit_transform(df)\n",
    "ss_data=ss_scaler.fit_transform(df)\n",
    "ma_data=ma_scaler.fit_transform(df)\n",
    "po_data=po_transformer.fit_transform(df)\n"
   ]
  },
  {
   "cell_type": "code",
   "execution_count": null,
   "metadata": {},
   "outputs": [],
   "source": [
    "mm_data.shape"
   ]
  },
  {
   "cell_type": "markdown",
   "metadata": {},
   "source": [
    "#### MinMax scaler"
   ]
  },
  {
   "cell_type": "code",
   "execution_count": null,
   "metadata": {},
   "outputs": [],
   "source": [
    "# MinMax Scaler\n",
    "\n",
    "t_df=mm_data\n",
    "columns=df.columns\n",
    "nr,nc=6,5\n",
    "# create subplots\n",
    "fig, axes = plt.subplots(nr,nc,figsize=(30,20),sharex=True)\n",
    "\n",
    "# insert data into plot\n",
    "for i in range(t_df.shape[1]):\n",
    "    sns.histplot(data=t_df[:,i], ax=axes[i//nc,i%nc])\n",
    "plt.savefig(\"./png/mm_data_histogram.png\")"
   ]
  },
  {
   "cell_type": "markdown",
   "metadata": {},
   "source": [
    "#### Robust Scaler"
   ]
  },
  {
   "cell_type": "code",
   "execution_count": null,
   "metadata": {},
   "outputs": [],
   "source": [
    "# Robust Scaler\n",
    "\n",
    "t_df=rb_data\n",
    "columns=df.columns\n",
    "nr,nc=6,5\n",
    "# create subplots\n",
    "fig, axes = plt.subplots(nr,nc,figsize=(30,20),sharex=True)\n",
    "\n",
    "# insert data into plot\n",
    "for i in range(t_df.shape[1]):\n",
    "    sns.histplot(data=t_df[:,i], ax=axes[i//nc,i%nc])\n",
    "plt.savefig(\"./png/rb_data_histogram.png\")"
   ]
  },
  {
   "cell_type": "markdown",
   "metadata": {},
   "source": [
    "#### Standard Scaler"
   ]
  },
  {
   "cell_type": "code",
   "execution_count": null,
   "metadata": {},
   "outputs": [],
   "source": [
    "# Standard Scaler\n",
    "\n",
    "t_df=ss_data\n",
    "columns=df.columns\n",
    "nr,nc=6,5\n",
    "# create subplots\n",
    "fig, axes = plt.subplots(nr,nc,figsize=(30,20),sharex=True)\n",
    "\n",
    "# insert data into plot\n",
    "for i in range(t_df.shape[1]):\n",
    "    sns.histplot(data=t_df[:,i], ax=axes[i//nc,i%nc])\n",
    "plt.savefig(\"./png/ss_data_histogram.png\")"
   ]
  },
  {
   "cell_type": "markdown",
   "metadata": {},
   "source": [
    "#### MaxAbs Scaler"
   ]
  },
  {
   "cell_type": "code",
   "execution_count": null,
   "metadata": {},
   "outputs": [],
   "source": [
    "# MaxAbs Scaler\n",
    "\n",
    "t_df=ma_data\n",
    "columns=df.columns\n",
    "nr,nc=6,5\n",
    "# create subplots\n",
    "fig, axes = plt.subplots(nr,nc,figsize=(30,20),sharex=True)\n",
    "\n",
    "# insert data into plot\n",
    "for i in range(t_df.shape[1]):\n",
    "    sns.histplot(data=t_df[:,i], ax=axes[i//nc,i%nc])\n",
    "plt.savefig(\"./png/ma_data_histogram.png\")"
   ]
  },
  {
   "cell_type": "markdown",
   "metadata": {},
   "source": [
    "#### Power Transform"
   ]
  },
  {
   "cell_type": "code",
   "execution_count": null,
   "metadata": {},
   "outputs": [],
   "source": [
    "# Power Transform\n",
    "\n",
    "t_df=po_data\n",
    "columns=df.columns\n",
    "nr,nc=6,5\n",
    "# create subplots\n",
    "fig, axes = plt.subplots(nr,nc,figsize=(30,20),sharex=True)\n",
    "\n",
    "# insert data into plot\n",
    "for i in range(t_df.shape[1]):\n",
    "    sns.histplot(data=t_df[:,i], ax=axes[i//nc,i%nc])\n",
    "plt.savefig(\"./png/po_data_histogram.png\")"
   ]
  },
  {
   "cell_type": "markdown",
   "metadata": {},
   "source": [
    "## Data Normality Test"
   ]
  },
  {
   "cell_type": "code",
   "execution_count": null,
   "metadata": {},
   "outputs": [],
   "source": [
    "for i in range(po_data.shape[1]):\n",
    "    fig = plt. figure(figsize= (20,5))\n",
    "    ax1 = fig.add_subplot (1, 2, 1)\n",
    "    ax2 = fig.add_subplot (1, 2, 2)\n",
    "\n",
    "    data=po_data[:,i]\n",
    "    stats.probplot(data, dist=stats.norm, plot=ax1)\n",
    "    mu = data.mean()\n",
    "    variance = data.var()\n",
    "    sigma = variance ** 0.5\n",
    "    x = np.linspace (mu - 3*sigma, mu + 3*sigma, 100)\n",
    "    ax2.plot(x, stats.norm.pdf(x, mu, sigma), color=\"blue\", label='theoretical')\n",
    "\n",
    "    sns.distplot(ax=ax2, a=data, bins=100, color=\"red\", label='observed') \n",
    "    ax2.legend()\n",
    "    plt.savefig(\"%d_po_data.png\"%(i))"
   ]
  },
  {
   "cell_type": "code",
   "execution_count": 134,
   "metadata": {},
   "outputs": [
    {
     "name": "stderr",
     "output_type": "stream",
     "text": [
      "/opt/anaconda3/lib/python3.9/site-packages/scipy/stats/morestats.py:1760: UserWarning: p-value may not be accurate for N > 5000.\n",
      "  warnings.warn(\"p-value may not be accurate for N > 5000.\")\n"
     ]
    },
    {
     "data": {
      "text/plain": [
       "<matplotlib.collections.PathCollection at 0x7f99a0c5b430>"
      ]
     },
     "execution_count": 134,
     "metadata": {},
     "output_type": "execute_result"
    },
    {
     "data": {
      "image/png": "[encoded data removed]",
      "text/plain": [
       "<Figure size 640x480 with 1 Axes>"
      ]
     },
     "metadata": {},
     "output_type": "display_data"
    }
   ],
   "source": [
    "test_stats,p_vals= [],[]\n",
    "for i in range(po_data.shape[1]):\n",
    "    data=po_data[:,i]\n",
    "    test_stat, p_val = stats.shapiro(data)\n",
    "    test_stats.append(test_stat)\n",
    "    p_vals.append(p_val)\n",
    "plt.scatter(test_stats,p_vals)"
   ]
  },
  {
   "cell_type": "code",
   "execution_count": 146,
   "metadata": {},
   "outputs": [
    {
     "data": {
      "text/plain": [
       "(98000, 29)"
      ]
     },
     "execution_count": 146,
     "metadata": {},
     "output_type": "execute_result"
    }
   ],
   "source": [
    "np.array(df).shape"
   ]
  },
  {
   "cell_type": "code",
   "execution_count": 150,
   "metadata": {},
   "outputs": [
    {
     "name": "stderr",
     "output_type": "stream",
     "text": [
      "/opt/anaconda3/lib/python3.9/site-packages/scipy/stats/morestats.py:1760: UserWarning: p-value may not be accurate for N > 5000.\n",
      "  warnings.warn(\"p-value may not be accurate for N > 5000.\")\n"
     ]
    },
    {
     "data": {
      "image/png": "[encoded data removed]",
      "text/plain": [
       "<Figure size 640x480 with 1 Axes>"
      ]
     },
     "metadata": {},
     "output_type": "display_data"
    }
   ],
   "source": [
    "\n",
    "test_stats,p_vals= [],[]\n",
    "s_data=np.array(df)\n",
    "for i in range(s_data.shape[1]):\n",
    "    data=s_data[:,i]\n",
    "    test_stat, p_val = stats.shapiro(data)\n",
    "    test_stats.append(test_stat)\n",
    "    p_vals.append(p_val)\n",
    "plt.scatter(test_stats,p_vals)\n",
    "plt.savefig(\"./png/normality/%s_sw.png\"%(nameof(ma_data)))\n"
   ]
  },
  {
   "cell_type": "markdown",
   "metadata": {},
   "source": [
    "# Data Correlation"
   ]
  },
  {
   "cell_type": "code",
   "execution_count": null,
   "metadata": {},
   "outputs": [],
   "source": [
    "# heatmap\n",
    "c_df = df.corr()\n",
    "fig, ax = plt.subplots( figsize=(50,50) )\n",
    "\n",
    "# masking upper side of triangle\n",
    "mask = np.zeros_like(c_df, dtype=np.bool)\n",
    "mask[np.triu_indices_from(mask)] = True\n",
    "\n",
    "sns.heatmap(c_df, \n",
    "            cmap = 'RdYlBu_r', \n",
    "            annot = True,\n",
    "            mask=mask,\n",
    "            linewidths=.5,\n",
    "            vmin = -1,vmax = 1)  \n",
    "            \n",
    "plt.savefig(\"./png/data_correlation.png\")"
   ]
  },
  {
   "cell_type": "code",
   "execution_count": null,
   "metadata": {},
   "outputs": [],
   "source": [
    "# heatmap\n",
    "c_df = pd.DataFrame(po_data).corr()\n",
    "fig, ax = plt.subplots( figsize=(50,50) )\n",
    "\n",
    "# masking upper side of triangle\n",
    "mask = np.zeros_like(c_df, dtype=np.bool)\n",
    "mask[np.triu_indices_from(mask)] = True\n",
    "\n",
    "sns.heatmap(c_df, \n",
    "            cmap = 'RdYlBu_r', \n",
    "            annot = True,\n",
    "            mask=mask,\n",
    "            linewidths=.5,\n",
    "            vmin = -1,vmax = 1)  \n",
    "            \n",
    "plt.savefig(\"./png/po_data_correlation.png\")"
   ]
  },
  {
   "cell_type": "code",
   "execution_count": null,
   "metadata": {},
   "outputs": [],
   "source": [
    "# heatmap\n",
    "c_df = pd.DataFrame(ma_data).corr()\n",
    "fig, ax = plt.subplots( figsize=(50,50) )\n",
    "\n",
    "# masking upper side of triangle\n",
    "mask = np.zeros_like(c_df, dtype=np.bool)\n",
    "mask[np.triu_indices_from(mask)] = True\n",
    "\n",
    "sns.heatmap(c_df, \n",
    "            cmap = 'RdYlBu_r', \n",
    "            annot = True,\n",
    "            mask=mask,\n",
    "            linewidths=.5,\n",
    "            vmin = -1,vmax = 1)  \n",
    "            \n",
    "plt.savefig(\"./png/ma_data_correlation.png\")"
   ]
  },
  {
   "cell_type": "code",
   "execution_count": null,
   "metadata": {},
   "outputs": [],
   "source": [
    "# heatmap\n",
    "c_df = pd.DataFrame(ss_data).corr()\n",
    "fig, ax = plt.subplots( figsize=(50,50) )\n",
    "\n",
    "# masking upper side of triangle\n",
    "mask = np.zeros_like(c_df, dtype=np.bool)\n",
    "mask[np.triu_indices_from(mask)] = True\n",
    "\n",
    "sns.heatmap(c_df, \n",
    "            cmap = 'RdYlBu_r', \n",
    "            annot = True,\n",
    "            mask=mask,\n",
    "            linewidths=.5,\n",
    "            vmin = -1,vmax = 1)  \n",
    "            \n",
    "plt.savefig(\"./png/ss_data_correlation.png\")"
   ]
  },
  {
   "cell_type": "code",
   "execution_count": null,
   "metadata": {},
   "outputs": [],
   "source": [
    "# heatmap\n",
    "c_df = pd.DataFrame(mm_data).corr()\n",
    "fig, ax = plt.subplots( figsize=(50,50) )\n",
    "\n",
    "# masking upper side of triangle\n",
    "mask = np.zeros_like(c_df, dtype=np.bool)\n",
    "mask[np.triu_indices_from(mask)] = True\n",
    "\n",
    "sns.heatmap(c_df, \n",
    "            cmap = 'RdYlBu_r', \n",
    "            annot = True,\n",
    "            mask=mask,\n",
    "            linewidths=.5,\n",
    "            vmin = -1,vmax = 1)  \n",
    "            \n",
    "plt.savefig(\"./png/mm_data_correlation.png\")"
   ]
  },
  {
   "cell_type": "code",
   "execution_count": null,
   "metadata": {},
   "outputs": [],
   "source": [
    "# heatmap\n",
    "c_df = pd.DataFrame(rb_data).corr()\n",
    "fig, ax = plt.subplots( figsize=(50,50) )\n",
    "\n",
    "# masking upper side of triangle\n",
    "mask = np.zeros_like(c_df, dtype=np.bool)\n",
    "mask[np.triu_indices_from(mask)] = True\n",
    "\n",
    "sns.heatmap(c_df, \n",
    "            cmap = 'RdYlBu_r', \n",
    "            annot = True,\n",
    "            mask=mask,\n",
    "            linewidths=.5,\n",
    "            vmin = -1,vmax = 1)  \n",
    "            \n",
    "plt.savefig(\"./png/rb_data_correlation.png\")"
   ]
  },
  {
   "cell_type": "markdown",
   "metadata": {},
   "source": [
    "# Dimensionality Reduction"
   ]
  },
  {
   "cell_type": "markdown",
   "metadata": {},
   "source": [
    "### 1. Select features"
   ]
  },
  {
   "cell_type": "code",
   "execution_count": null,
   "metadata": {},
   "outputs": [],
   "source": [
    "selected_columns = ['f_07', 'f_08', 'f_09', 'f_10', 'f_11', 'f_12', 'f_13','f_22', 'f_23', 'f_24', 'f_25', 'f_26', 'f_27', 'f_28']\n",
    "selected_data = df[selected_columns]\n",
    "corr_mat = selected_data.corr()\n",
    "fig, ax = plt.subplots( figsize=(50,50) )\n",
    "\n",
    "# masking upper side of triangle\n",
    "mask = np.zeros_like(corr_mat, dtype=np.bool)\n",
    "mask[np.triu_indices_from(mask)] = True\n",
    "\n",
    "sns.heatmap(corr_mat, \n",
    "            cmap = 'RdYlBu_r', \n",
    "            annot = True,\n",
    "            mask=mask,\n",
    "            linewidths=.5,\n",
    "            vmin = -1,vmax = 1)  \n",
    "            \n",
    "plt.savefig(\"./png/selected_data_correlation.png\")"
   ]
  },
  {
   "cell_type": "code",
   "execution_count": null,
   "metadata": {},
   "outputs": [],
   "source": [
    "selected_columns = [7,8,9,10,11,12,13,22,24,25,26,27,28]\n",
    "len(selected_columns)"
   ]
  },
  {
   "cell_type": "code",
   "execution_count": null,
   "metadata": {},
   "outputs": [],
   "source": [
    "selected_data = pd.DataFrame(mm_data)[selected_columns]\n",
    "corr_mat = selected_data.corr()\n",
    "fig, ax = plt.subplots( figsize=(50,50) )\n",
    "\n",
    "# masking upper side of triangle\n",
    "mask = np.zeros_like(corr_mat, dtype=np.bool)\n",
    "mask[np.triu_indices_from(mask)] = True\n",
    "\n",
    "sns.heatmap(corr_mat, \n",
    "            cmap = 'RdYlBu_r', \n",
    "            annot = True,\n",
    "            mask=mask,\n",
    "            linewidths=.5,\n",
    "            vmin = -1,vmax = 1)  \n",
    "            \n",
    "plt.savefig(\"./png/selected_mm_data_correlation.png\")"
   ]
  },
  {
   "cell_type": "code",
   "execution_count": null,
   "metadata": {},
   "outputs": [],
   "source": [
    "selected_data = pd.DataFrame(rb_data)[selected_columns]\n",
    "corr_mat = selected_data.corr()\n",
    "fig, ax = plt.subplots( figsize=(50,50) )\n",
    "\n",
    "# masking upper side of triangle\n",
    "mask = np.zeros_like(corr_mat, dtype=np.bool)\n",
    "mask[np.triu_indices_from(mask)] = True\n",
    "\n",
    "sns.heatmap(corr_mat, \n",
    "            cmap = 'RdYlBu_r', \n",
    "            annot = True,\n",
    "            mask=mask,\n",
    "            linewidths=.5,\n",
    "            vmin = -1,vmax = 1)  \n",
    "            \n",
    "plt.savefig(\"./png/selected_rb_data_correlation.png\")"
   ]
  },
  {
   "cell_type": "code",
   "execution_count": null,
   "metadata": {},
   "outputs": [],
   "source": [
    "selected_data = pd.DataFrame(ss_data)[selected_columns]\n",
    "corr_mat = selected_data.corr()\n",
    "fig, ax = plt.subplots( figsize=(50,50) )\n",
    "\n",
    "# masking upper side of triangle\n",
    "mask = np.zeros_like(corr_mat, dtype=np.bool)\n",
    "mask[np.triu_indices_from(mask)] = True\n",
    "\n",
    "sns.heatmap(corr_mat, \n",
    "            cmap = 'RdYlBu_r', \n",
    "            annot = True,\n",
    "            mask=mask,\n",
    "            linewidths=.5,\n",
    "            vmin = -1,vmax = 1)  \n",
    "            \n",
    "plt.savefig(\"./png/selected_ss_data_correlation.png\")"
   ]
  },
  {
   "cell_type": "code",
   "execution_count": null,
   "metadata": {},
   "outputs": [],
   "source": [
    "selected_data = pd.DataFrame(ma_data)[selected_columns]\n",
    "corr_mat = selected_data.corr()\n",
    "fig, ax = plt.subplots( figsize=(50,50) )\n",
    "\n",
    "# masking upper side of triangle\n",
    "mask = np.zeros_like(corr_mat, dtype=np.bool)\n",
    "mask[np.triu_indices_from(mask)] = True\n",
    "\n",
    "sns.heatmap(corr_mat, \n",
    "            cmap = 'RdYlBu_r', \n",
    "            annot = True,\n",
    "            mask=mask,\n",
    "            linewidths=.5,\n",
    "            vmin = -1,vmax = 1)  \n",
    "            \n",
    "plt.savefig(\"./png/selected_ma_data_correlation.png\")"
   ]
  },
  {
   "cell_type": "code",
   "execution_count": null,
   "metadata": {},
   "outputs": [],
   "source": [
    "selected_data = pd.DataFrame(po_data)[selected_columns]\n",
    "corr_mat = selected_data.corr()\n",
    "fig, ax = plt.subplots( figsize=(50,50) )\n",
    "\n",
    "# masking upper side of triangle\n",
    "mask = np.zeros_like(corr_mat, dtype=np.bool)\n",
    "mask[np.triu_indices_from(mask)] = True\n",
    "\n",
    "sns.heatmap(corr_mat, \n",
    "            cmap = 'RdYlBu_r', \n",
    "            annot = True,\n",
    "            mask=mask,\n",
    "            linewidths=.5,\n",
    "            vmin = -1,vmax = 1)  \n",
    "            \n",
    "plt.savefig(\"./png/selected_po_data_correlation.png\")"
   ]
  },
  {
   "cell_type": "markdown",
   "metadata": {},
   "source": [
    "### 2. Extract Features"
   ]
  },
  {
   "cell_type": "markdown",
   "metadata": {},
   "source": [
    "#### 2-1. PCA"
   ]
  },
  {
   "cell_type": "code",
   "execution_count": null,
   "metadata": {},
   "outputs": [],
   "source": [
    "# data\n",
    "pca = PCA().fit(df)\n",
    "plt.plot(np.cumsum(pca.explained_variance_ratio_))\n",
    "plt.xlabel('number of components')\n",
    "plt.ylabel('cumulative explained variance')\n",
    "plt.savefig(\"./png/pca_curve/pca_curve_data.png\")"
   ]
  },
  {
   "cell_type": "code",
   "execution_count": null,
   "metadata": {},
   "outputs": [],
   "source": [
    "nameof(ma_data)"
   ]
  },
  {
   "cell_type": "code",
   "execution_count": null,
   "metadata": {},
   "outputs": [],
   "source": [
    "# po_selected\n",
    "pca = PCA().fit(rb_data)\n",
    "plt.plot(np.cumsum(pca.explained_variance_ratio_))\n",
    "plt.xlabel('number of components')\n",
    "plt.ylabel('cumulative explained variance')\n",
    "plt.savefig(\"./png/pca_curve/selected/pca_curve_%s.png\"%(nameof(rb_data)))"
   ]
  },
  {
   "cell_type": "markdown",
   "metadata": {},
   "source": [
    "### 2-2 TSNE"
   ]
  },
  {
   "cell_type": "code",
   "execution_count": null,
   "metadata": {},
   "outputs": [],
   "source": [
    "..."
   ]
  },
  {
   "cell_type": "markdown",
   "metadata": {},
   "source": [
    "# Clustering"
   ]
  },
  {
   "cell_type": "markdown",
   "metadata": {},
   "source": [
    "## Elbow method"
   ]
  },
  {
   "cell_type": "code",
   "execution_count": null,
   "metadata": {},
   "outputs": [],
   "source": [
    "inertia_arr = []\n",
    "k_range = range (2, 15)\n",
    "for k in k_range:\n",
    "    Kmeans = KMeans(_clusters=k, random_state=200)\n",
    "    Kmeans.fit(X_train)\n",
    "    interia = Kmeans. inertia_\n",
    "    print ('k :', k, 'inertia :', interia)\n",
    "    inertia arr.append(interia)\n",
    "    inertia_arr = np.array(inertia_arr)"
   ]
  },
  {
   "cell_type": "markdown",
   "metadata": {},
   "source": [
    "# Data Preprocessing\n",
    "    - Scaling\n",
    "    - Demensionality reduction\n",
    "\n",
    "    - Test\n",
    "        - Shapiro-Wilk Test\n",
    "        - Poisson Dispersion Test\n",
    "# Clustering Methods\n",
    "     - k-Means\n",
    "     - Mean Shift\n",
    "     - DBSCAN\n",
    "     - Gaussian Mixture Models\n",
    "     - Agglomerative Hierarchical Clustering\n",
    "# Select number of cluster\n",
    "    - Elbow Method \n",
    "# Estimator\n",
    "    - Dunn Index\n",
    "    - Shiloutate score\n",
    "    - Rand Index?\n",
    "    - Adjusted Rand Index"
   ]
  }
 ],
 "metadata": {
  "kernelspec": {
   "display_name": "Python 3.9.13 ('base')",
   "language": "python",
   "name": "python3"
  },
  "language_info": {
   "codemirror_mode": {
    "name": "ipython",
    "version": 3
   },
   "file_extension": ".py",
   "mimetype": "text/x-python",
   "name": "python",
   "nbconvert_exporter": "python",
   "pygments_lexer": "ipython3",
   "version": "3.9.13"
  },
  "orig_nbformat": 4,
  "vscode": {
   "interpreter": {
    "hash": "40d3a090f54c6569ab1632332b64b2c03c39dcf918b08424e98f38b5ae0af88f"
   }
  }
 },
 "nbformat": 4,
 "nbformat_minor": 2
}
